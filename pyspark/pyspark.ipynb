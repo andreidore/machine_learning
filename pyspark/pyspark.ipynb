{
  "nbformat": 4,
  "nbformat_minor": 0,
  "metadata": {
    "colab": {
      "name": "pyspark.ipynb",
      "provenance": [],
      "authorship_tag": "ABX9TyP5F/IDm2PMZcutCxhawFxE",
      "include_colab_link": true
    },
    "kernelspec": {
      "name": "python3",
      "display_name": "Python 3"
    }
  },
  "cells": [
    {
      "cell_type": "markdown",
      "metadata": {
        "id": "view-in-github",
        "colab_type": "text"
      },
      "source": [
        "<a href=\"https://colab.research.google.com/github/andreidore/machine_learning/blob/main/pyspark/pyspark.ipynb\" target=\"_parent\"><img src=\"https://colab.research.google.com/assets/colab-badge.svg\" alt=\"Open In Colab\"/></a>"
      ]
    },
    {
      "cell_type": "code",
      "metadata": {
        "id": "Ffws1hyxUI5l"
      },
      "source": [
        "!apt-get install openjdk-8-jdk-headless -qq > /dev/null\n",
        "!wget -q https://mirror.efect.ro/apache/spark/spark-2.4.7/spark-2.4.7-bin-hadoop2.7.tgz\n",
        "!tar xf spark-2.4.7-bin-hadoop2.7.tgz\n",
        "!pip install -q findspark"
      ],
      "execution_count": 1,
      "outputs": []
    },
    {
      "cell_type": "code",
      "metadata": {
        "id": "NLgQ73umUQ2d"
      },
      "source": [
        "import os\n",
        "os.environ[\"JAVA_HOME\"] = \"/usr/lib/jvm/java-8-openjdk-amd64\"\n",
        "os.environ[\"SPARK_HOME\"] = \"/content/spark-2.4.7-bin-hadoop2.7\""
      ],
      "execution_count": 2,
      "outputs": []
    },
    {
      "cell_type": "code",
      "metadata": {
        "id": "fdgk00YVYpBd"
      },
      "source": [
        "import findspark\n",
        "findspark.init()\n",
        "from pyspark.sql import SparkSession\n",
        "spark = SparkSession.builder.master(\"local[*]\").getOrCreate()"
      ],
      "execution_count": 3,
      "outputs": []
    },
    {
      "cell_type": "code",
      "metadata": {
        "colab": {
          "base_uri": "https://localhost:8080/",
          "height": 216
        },
        "id": "04hWWo6RYqt2",
        "outputId": "ccde0e33-e22e-47a5-ea1d-cd4d998f692a"
      },
      "source": [
        "spark"
      ],
      "execution_count": 4,
      "outputs": [
        {
          "output_type": "execute_result",
          "data": {
            "text/html": [
              "\n",
              "            <div>\n",
              "                <p><b>SparkSession - in-memory</b></p>\n",
              "                \n",
              "        <div>\n",
              "            <p><b>SparkContext</b></p>\n",
              "\n",
              "            <p><a href=\"http://9b5a6ff37550:4040\">Spark UI</a></p>\n",
              "\n",
              "            <dl>\n",
              "              <dt>Version</dt>\n",
              "                <dd><code>v2.4.7</code></dd>\n",
              "              <dt>Master</dt>\n",
              "                <dd><code>local[*]</code></dd>\n",
              "              <dt>AppName</dt>\n",
              "                <dd><code>pyspark-shell</code></dd>\n",
              "            </dl>\n",
              "        </div>\n",
              "        \n",
              "            </div>\n",
              "        "
            ],
            "text/plain": [
              "<pyspark.sql.session.SparkSession at 0x7ffaa2ddb668>"
            ]
          },
          "metadata": {
            "tags": []
          },
          "execution_count": 4
        }
      ]
    },
    {
      "cell_type": "code",
      "metadata": {
        "id": "CGoi17Sad3Td"
      },
      "source": [
        "df=spark.read.json(\"people.json\")"
      ],
      "execution_count": 5,
      "outputs": []
    },
    {
      "cell_type": "code",
      "metadata": {
        "colab": {
          "base_uri": "https://localhost:8080/"
        },
        "id": "LlaL4fiwe-mL",
        "outputId": "2b67ddfe-48a7-4abf-b3c8-2ac4a1af06ea"
      },
      "source": [
        "df.printSchema()"
      ],
      "execution_count": 6,
      "outputs": [
        {
          "output_type": "stream",
          "text": [
            "root\n",
            " |-- age: long (nullable = true)\n",
            " |-- name: string (nullable = true)\n",
            "\n"
          ],
          "name": "stdout"
        }
      ]
    },
    {
      "cell_type": "code",
      "metadata": {
        "colab": {
          "base_uri": "https://localhost:8080/"
        },
        "id": "ekiqUEiBfE0U",
        "outputId": "3f72a746-df7c-4d7b-fc0c-b974f91257a4"
      },
      "source": [
        "df.columns"
      ],
      "execution_count": 7,
      "outputs": [
        {
          "output_type": "execute_result",
          "data": {
            "text/plain": [
              "['age', 'name']"
            ]
          },
          "metadata": {
            "tags": []
          },
          "execution_count": 7
        }
      ]
    },
    {
      "cell_type": "code",
      "metadata": {
        "colab": {
          "base_uri": "https://localhost:8080/"
        },
        "id": "GscDbE5MfRvW",
        "outputId": "de7ad431-3cf6-4f52-a6b7-b93c0d05e0b0"
      },
      "source": [
        "df.describe().show()"
      ],
      "execution_count": 8,
      "outputs": [
        {
          "output_type": "stream",
          "text": [
            "+-------+------------------+-------+\n",
            "|summary|               age|   name|\n",
            "+-------+------------------+-------+\n",
            "|  count|                 2|      3|\n",
            "|   mean|              24.5|   null|\n",
            "| stddev|7.7781745930520225|   null|\n",
            "|    min|                19|   Andy|\n",
            "|    max|                30|Michael|\n",
            "+-------+------------------+-------+\n",
            "\n"
          ],
          "name": "stdout"
        }
      ]
    },
    {
      "cell_type": "code",
      "metadata": {
        "colab": {
          "base_uri": "https://localhost:8080/"
        },
        "id": "Ua_r6obOlZJl",
        "outputId": "4264d218-44ec-45dc-9f83-e961fc480357"
      },
      "source": [
        "df.select(\"age\").show()"
      ],
      "execution_count": 9,
      "outputs": [
        {
          "output_type": "stream",
          "text": [
            "+----+\n",
            "| age|\n",
            "+----+\n",
            "|null|\n",
            "|  30|\n",
            "|  19|\n",
            "+----+\n",
            "\n"
          ],
          "name": "stdout"
        }
      ]
    },
    {
      "cell_type": "code",
      "metadata": {
        "colab": {
          "base_uri": "https://localhost:8080/"
        },
        "id": "TLglDLKkltZM",
        "outputId": "68452992-1ff8-490b-dffc-4d99ce9783ef"
      },
      "source": [
        "df.withColumn(\"new_age\",df[\"age\"]*2).show()"
      ],
      "execution_count": 10,
      "outputs": [
        {
          "output_type": "stream",
          "text": [
            "+----+-------+-------+\n",
            "| age|   name|new_age|\n",
            "+----+-------+-------+\n",
            "|null|Michael|   null|\n",
            "|  30|   Andy|     60|\n",
            "|  19| Justin|     38|\n",
            "+----+-------+-------+\n",
            "\n"
          ],
          "name": "stdout"
        }
      ]
    },
    {
      "cell_type": "code",
      "metadata": {
        "id": "L3XvkBovmlx4"
      },
      "source": [
        "df.createOrReplaceTempView(\"people\")"
      ],
      "execution_count": 11,
      "outputs": []
    },
    {
      "cell_type": "code",
      "metadata": {
        "colab": {
          "base_uri": "https://localhost:8080/"
        },
        "id": "E6wJ4NFHmu7l",
        "outputId": "c7a3cbe7-7698-4acf-cd80-47d34d37b031"
      },
      "source": [
        "results=spark.sql(\"select * from people\")\n",
        "results.show()"
      ],
      "execution_count": 12,
      "outputs": [
        {
          "output_type": "stream",
          "text": [
            "+----+-------+\n",
            "| age|   name|\n",
            "+----+-------+\n",
            "|null|Michael|\n",
            "|  30|   Andy|\n",
            "|  19| Justin|\n",
            "+----+-------+\n",
            "\n"
          ],
          "name": "stdout"
        }
      ]
    },
    {
      "cell_type": "code",
      "metadata": {
        "colab": {
          "base_uri": "https://localhost:8080/"
        },
        "id": "kmABJV0Jm6qt",
        "outputId": "18046d67-57d9-471e-c93d-8f6f871b9ba6"
      },
      "source": [
        "results=spark.sql(\"select * from people where age=19\")\n",
        "results.show()"
      ],
      "execution_count": 13,
      "outputs": [
        {
          "output_type": "stream",
          "text": [
            "+---+------+\n",
            "|age|  name|\n",
            "+---+------+\n",
            "| 19|Justin|\n",
            "+---+------+\n",
            "\n"
          ],
          "name": "stdout"
        }
      ]
    },
    {
      "cell_type": "code",
      "metadata": {
        "id": "Ggl35rlnoaA6"
      },
      "source": [
        "df=spark.read.csv(\"appl_stock.csv\")"
      ],
      "execution_count": 14,
      "outputs": []
    },
    {
      "cell_type": "code",
      "metadata": {
        "colab": {
          "base_uri": "https://localhost:8080/"
        },
        "id": "Y7y01AbQo2md",
        "outputId": "d2f67aa1-ddb7-4331-8009-0294204daa80"
      },
      "source": [
        "df.head(5)"
      ],
      "execution_count": 15,
      "outputs": [
        {
          "output_type": "execute_result",
          "data": {
            "text/plain": [
              "[Row(_c0='Date', _c1='Open', _c2='High', _c3='Low', _c4='Close', _c5='Volume', _c6='Adj Close'),\n",
              " Row(_c0='2010-01-04', _c1='213.429998', _c2='214.499996', _c3='212.38000099999996', _c4='214.009998', _c5='123432400', _c6='27.727039'),\n",
              " Row(_c0='2010-01-05', _c1='214.599998', _c2='215.589994', _c3='213.249994', _c4='214.379993', _c5='150476200', _c6='27.774976000000002'),\n",
              " Row(_c0='2010-01-06', _c1='214.379993', _c2='215.23', _c3='210.750004', _c4='210.969995', _c5='138040000', _c6='27.333178000000004'),\n",
              " Row(_c0='2010-01-07', _c1='211.75', _c2='212.000006', _c3='209.050005', _c4='210.58', _c5='119282800', _c6='27.28265')]"
            ]
          },
          "metadata": {
            "tags": []
          },
          "execution_count": 15
        }
      ]
    },
    {
      "cell_type": "code",
      "metadata": {
        "colab": {
          "base_uri": "https://localhost:8080/"
        },
        "id": "-1RevqxSo8g1",
        "outputId": "bfe90e24-b29d-4358-ec9b-9605e43b5fdd"
      },
      "source": [
        "df.show()"
      ],
      "execution_count": 16,
      "outputs": [
        {
          "output_type": "stream",
          "text": [
            "+----------+------------------+------------------+------------------+------------------+---------+------------------+\n",
            "|       _c0|               _c1|               _c2|               _c3|               _c4|      _c5|               _c6|\n",
            "+----------+------------------+------------------+------------------+------------------+---------+------------------+\n",
            "|      Date|              Open|              High|               Low|             Close|   Volume|         Adj Close|\n",
            "|2010-01-04|        213.429998|        214.499996|212.38000099999996|        214.009998|123432400|         27.727039|\n",
            "|2010-01-05|        214.599998|        215.589994|        213.249994|        214.379993|150476200|27.774976000000002|\n",
            "|2010-01-06|        214.379993|            215.23|        210.750004|        210.969995|138040000|27.333178000000004|\n",
            "|2010-01-07|            211.75|        212.000006|        209.050005|            210.58|119282800|          27.28265|\n",
            "|2010-01-08|        210.299994|        212.000006|209.06000500000002|211.98000499999998|111902700|         27.464034|\n",
            "|2010-01-11|212.79999700000002|        213.000002|        208.450005|210.11000299999998|115557400|         27.221758|\n",
            "|2010-01-12|209.18999499999998|209.76999500000002|        206.419998|        207.720001|148614900|          26.91211|\n",
            "|2010-01-13|        207.870005|210.92999500000002|        204.099998|        210.650002|151473000|          27.29172|\n",
            "|2010-01-14|210.11000299999998|210.45999700000002|        209.020004|            209.43|108223500|         27.133657|\n",
            "|2010-01-15|210.92999500000002|211.59999700000003|        205.869999|            205.93|148516900|26.680197999999997|\n",
            "|2010-01-19|        208.330002|215.18999900000003|        207.240004|        215.039995|182501900|27.860484999999997|\n",
            "|2010-01-20|        214.910006|        215.549994|        209.500002|            211.73|153038200|         27.431644|\n",
            "|2010-01-21|        212.079994|213.30999599999998|        207.210003|        208.069996|152038600|         26.957455|\n",
            "|2010-01-22|206.78000600000001|        207.499996|            197.16|            197.75|220441900|         25.620401|\n",
            "|2010-01-25|202.51000200000001|        204.699999|        200.190002|        203.070002|266424900|26.309658000000002|\n",
            "|2010-01-26|205.95000100000001|        213.710005|        202.580004|        205.940001|466777500|         26.681494|\n",
            "|2010-01-27|        206.849995|            210.58|        199.530001|        207.880005|430642100|26.932840000000002|\n",
            "|2010-01-28|        204.930004|        205.500004|        198.699995|        199.289995|293375600|25.819922000000002|\n",
            "|2010-01-29|        201.079996|        202.199995|        190.250002|        192.060003|311488100|         24.883208|\n",
            "+----------+------------------+------------------+------------------+------------------+---------+------------------+\n",
            "only showing top 20 rows\n",
            "\n"
          ],
          "name": "stdout"
        }
      ]
    },
    {
      "cell_type": "code",
      "metadata": {
        "id": "BTxQJkaNyWg0"
      },
      "source": [
        "df = spark.read.csv(\"appl_stock.csv\",inferSchema=True,header=True)"
      ],
      "execution_count": 17,
      "outputs": []
    },
    {
      "cell_type": "code",
      "metadata": {
        "id": "ewICts6Gypb_",
        "outputId": "9aa06b25-23a7-46bf-c099-7cc6e72d62e8",
        "colab": {
          "base_uri": "https://localhost:8080/"
        }
      },
      "source": [
        "df.printSchema()"
      ],
      "execution_count": 18,
      "outputs": [
        {
          "output_type": "stream",
          "text": [
            "root\n",
            " |-- Date: timestamp (nullable = true)\n",
            " |-- Open: double (nullable = true)\n",
            " |-- High: double (nullable = true)\n",
            " |-- Low: double (nullable = true)\n",
            " |-- Close: double (nullable = true)\n",
            " |-- Volume: integer (nullable = true)\n",
            " |-- Adj Close: double (nullable = true)\n",
            "\n"
          ],
          "name": "stdout"
        }
      ]
    },
    {
      "cell_type": "code",
      "metadata": {
        "id": "kMfYTNImy9bJ",
        "outputId": "a64f48d4-6c9b-40ae-87db-85ef9c884d32",
        "colab": {
          "base_uri": "https://localhost:8080/"
        }
      },
      "source": [
        "df.head(3)[0]"
      ],
      "execution_count": 19,
      "outputs": [
        {
          "output_type": "execute_result",
          "data": {
            "text/plain": [
              "Row(Date=datetime.datetime(2010, 1, 4, 0, 0), Open=213.429998, High=214.499996, Low=212.38000099999996, Close=214.009998, Volume=123432400, Adj Close=27.727039)"
            ]
          },
          "metadata": {
            "tags": []
          },
          "execution_count": 19
        }
      ]
    },
    {
      "cell_type": "code",
      "metadata": {
        "id": "Jv_8JK1OzGIi",
        "outputId": "09598f92-c6e2-466f-a215-98c0b37691f9",
        "colab": {
          "base_uri": "https://localhost:8080/"
        }
      },
      "source": [
        "df.filter(\"Close<500\").select(\"Open\").show()"
      ],
      "execution_count": 21,
      "outputs": [
        {
          "output_type": "stream",
          "text": [
            "+------------------+\n",
            "|              Open|\n",
            "+------------------+\n",
            "|        213.429998|\n",
            "|        214.599998|\n",
            "|        214.379993|\n",
            "|            211.75|\n",
            "|        210.299994|\n",
            "|212.79999700000002|\n",
            "|209.18999499999998|\n",
            "|        207.870005|\n",
            "|210.11000299999998|\n",
            "|210.92999500000002|\n",
            "|        208.330002|\n",
            "|        214.910006|\n",
            "|        212.079994|\n",
            "|206.78000600000001|\n",
            "|202.51000200000001|\n",
            "|205.95000100000001|\n",
            "|        206.849995|\n",
            "|        204.930004|\n",
            "|        201.079996|\n",
            "|192.36999699999998|\n",
            "+------------------+\n",
            "only showing top 20 rows\n",
            "\n"
          ],
          "name": "stdout"
        }
      ]
    },
    {
      "cell_type": "code",
      "metadata": {
        "id": "UhgGmEDW0cNx",
        "outputId": "b699211c-d7c0-4543-89f0-2338bc77cd44",
        "colab": {
          "base_uri": "https://localhost:8080/"
        }
      },
      "source": [
        "df.filter(df[\"Close\"]<500).select(\"Close\").show()"
      ],
      "execution_count": 23,
      "outputs": [
        {
          "output_type": "stream",
          "text": [
            "+------------------+\n",
            "|             Close|\n",
            "+------------------+\n",
            "|        214.009998|\n",
            "|        214.379993|\n",
            "|        210.969995|\n",
            "|            210.58|\n",
            "|211.98000499999998|\n",
            "|210.11000299999998|\n",
            "|        207.720001|\n",
            "|        210.650002|\n",
            "|            209.43|\n",
            "|            205.93|\n",
            "|        215.039995|\n",
            "|            211.73|\n",
            "|        208.069996|\n",
            "|            197.75|\n",
            "|        203.070002|\n",
            "|        205.940001|\n",
            "|        207.880005|\n",
            "|        199.289995|\n",
            "|        192.060003|\n",
            "|        194.729998|\n",
            "+------------------+\n",
            "only showing top 20 rows\n",
            "\n"
          ],
          "name": "stdout"
        }
      ]
    },
    {
      "cell_type": "code",
      "metadata": {
        "id": "J-2iAtMfzVuI",
        "outputId": "65eeb5c5-ce78-4928-ca15-39d81daca8fc",
        "colab": {
          "base_uri": "https://localhost:8080/"
        }
      },
      "source": [
        "df.filter((df[\"Close\"]<500) & (df[\"Close\"]>300)).show()"
      ],
      "execution_count": 25,
      "outputs": [
        {
          "output_type": "stream",
          "text": [
            "+-------------------+------------------+------------------+------------------+------------------+---------+------------------+\n",
            "|               Date|              Open|              High|               Low|             Close|   Volume|         Adj Close|\n",
            "+-------------------+------------------+------------------+------------------+------------------+---------+------------------+\n",
            "|2010-10-13 00:00:00|        300.200008|        301.959995|        299.799999|300.14000699999997|157523100|         38.886005|\n",
            "|2010-10-14 00:00:00|        301.690002|        302.469994|        300.400013|302.30998999999997|108824100|         39.167147|\n",
            "|2010-10-15 00:00:00|307.43998700000003|             315.0|        304.909996|314.73999399999997|230548500|         40.777572|\n",
            "|2010-10-18 00:00:00|        318.470013|        319.000011|        314.289997|        317.999989|273252700|         41.199936|\n",
            "|2010-10-19 00:00:00|303.40000200000003|        313.770012|300.02000400000003|309.48999399999997|308196000|40.097384999999996|\n",
            "|2010-10-20 00:00:00|        308.999996|        314.249996|306.86998700000004|        310.529991|180406100|         40.232126|\n",
            "|2010-10-21 00:00:00|312.35999300000003|314.73999399999997|        306.799999|        309.520008|137865000|         40.101273|\n",
            "|2010-10-22 00:00:00|309.07001099999997|310.03999300000004|        306.299988|307.47000099999997| 93194500|         39.835675|\n",
            "|2010-10-25 00:00:00|        309.090012|        311.600002|308.44001000000003|        308.839993| 98115500|         40.013171|\n",
            "|2010-10-26 00:00:00|306.86998700000004|        309.740013|        305.650013|        308.049988| 98232400|         39.910818|\n",
            "|2010-10-27 00:00:00|307.65000499999996|         309.89999|305.59999799999997|307.83000899999996| 99750700|         39.882318|\n",
            "|2010-10-28 00:00:00|        307.950012|             308.0|        300.899998|         305.23999|137762800|         39.546756|\n",
            "|2010-10-29 00:00:00|        304.230007|        305.880005|300.87001000000004|            300.98|107627800|38.994834000000004|\n",
            "|2010-11-01 00:00:00|302.22000099999997|305.59999799999997|        302.200001|        304.179993|105972300|         39.409423|\n",
            "|2010-11-02 00:00:00|        307.000004|310.19001000000003|        307.000004|        309.360004|108482500|         40.080543|\n",
            "|2010-11-03 00:00:00|311.37001000000004|        312.880005|308.52999900000003|        312.800003|127087100|         40.526228|\n",
            "|2010-11-04 00:00:00|        315.449997|320.18001200000003|        315.029987|        318.270008|160622000|         41.234919|\n",
            "|2010-11-05 00:00:00|        317.990002|319.57001099999997|            316.75|        317.130009| 90313300|         41.087222|\n",
            "|2010-11-08 00:00:00|        317.199997|        319.769989|        316.759987|        318.620003| 70439600|         41.280264|\n",
            "|2010-11-09 00:00:00|        321.049992|        321.300011|        314.499989|        316.079998| 95886000|         40.951183|\n",
            "+-------------------+------------------+------------------+------------------+------------------+---------+------------------+\n",
            "only showing top 20 rows\n",
            "\n"
          ],
          "name": "stdout"
        }
      ]
    },
    {
      "cell_type": "code",
      "metadata": {
        "id": "CMl337is2hxY"
      },
      "source": [
        "df=spark.read.csv(\"sales_info.csv\",inferSchema=True, header=True)"
      ],
      "execution_count": 26,
      "outputs": []
    },
    {
      "cell_type": "code",
      "metadata": {
        "id": "x4ETgIcX2-PC",
        "outputId": "f67f5887-25cd-4b33-a1da-7040de335b8d",
        "colab": {
          "base_uri": "https://localhost:8080/"
        }
      },
      "source": [
        "df.show()"
      ],
      "execution_count": 27,
      "outputs": [
        {
          "output_type": "stream",
          "text": [
            "+-------+-------+-----+\n",
            "|Company| Person|Sales|\n",
            "+-------+-------+-----+\n",
            "|   GOOG|    Sam|200.0|\n",
            "|   GOOG|Charlie|120.0|\n",
            "|   GOOG|  Frank|340.0|\n",
            "|   MSFT|   Tina|600.0|\n",
            "|   MSFT|    Amy|124.0|\n",
            "|   MSFT|Vanessa|243.0|\n",
            "|     FB|   Carl|870.0|\n",
            "|     FB|  Sarah|350.0|\n",
            "|   APPL|   John|250.0|\n",
            "|   APPL|  Linda|130.0|\n",
            "|   APPL|   Mike|750.0|\n",
            "|   APPL|  Chris|350.0|\n",
            "+-------+-------+-----+\n",
            "\n"
          ],
          "name": "stdout"
        }
      ]
    }
  ]
}