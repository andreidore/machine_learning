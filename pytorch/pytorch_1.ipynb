{
  "nbformat": 4,
  "nbformat_minor": 0,
  "metadata": {
    "colab": {
      "name": "pytorch_1.ipynb",
      "provenance": [],
      "authorship_tag": "ABX9TyPUB9OZsgZtQq+n9nL4Ba1D",
      "include_colab_link": true
    },
    "kernelspec": {
      "name": "python3",
      "display_name": "Python 3"
    }
  },
  "cells": [
    {
      "cell_type": "markdown",
      "metadata": {
        "id": "view-in-github",
        "colab_type": "text"
      },
      "source": [
        "<a href=\"https://colab.research.google.com/github/andreidore/machine_learning/blob/main/pytorch/pytorch_1.ipynb\" target=\"_parent\"><img src=\"https://colab.research.google.com/assets/colab-badge.svg\" alt=\"Open In Colab\"/></a>"
      ]
    },
    {
      "cell_type": "code",
      "metadata": {
        "id": "WfLinSpy5PBF"
      },
      "source": [
        "import numpy as np\n",
        "import torch \n",
        "import torch.nn as nn\n",
        "import matplotlib.pyplot as plt"
      ],
      "execution_count": 7,
      "outputs": []
    },
    {
      "cell_type": "code",
      "metadata": {
        "id": "u8bfblvxATM6",
        "outputId": "cda2303b-439f-411d-9e6a-ae1cb54251d4",
        "colab": {
          "base_uri": "https://localhost:8080/"
        }
      },
      "source": [
        "print(torch.__version__)"
      ],
      "execution_count": 5,
      "outputs": [
        {
          "output_type": "stream",
          "text": [
            "1.7.0+cu101\n"
          ],
          "name": "stdout"
        }
      ]
    },
    {
      "cell_type": "code",
      "metadata": {
        "id": "BGJSA4XwCfxd"
      },
      "source": [
        "N = 20\n",
        "\n",
        "X=np.random.random(N)*10-5\n",
        "\n",
        "Y=0.5*X-1+np.random.random(N)"
      ],
      "execution_count": 13,
      "outputs": []
    },
    {
      "cell_type": "code",
      "metadata": {
        "id": "5RyVEHEfC112",
        "outputId": "f80ae779-4bb9-4f8f-d23c-6c76d6e6b1a0",
        "colab": {
          "base_uri": "https://localhost:8080/",
          "height": 282
        }
      },
      "source": [
        "plt.scatter(X,Y)"
      ],
      "execution_count": 14,
      "outputs": [
        {
          "output_type": "execute_result",
          "data": {
            "text/plain": [
              "<matplotlib.collections.PathCollection at 0x7f1e4bdfb278>"
            ]
          },
          "metadata": {
            "tags": []
          },
          "execution_count": 14
        },
        {
          "output_type": "display_data",
          "data": {
            "image/png": "[encoded data removed]",
            "text/plain": [
              "<Figure size 432x288 with 1 Axes>"
            ]
          },
          "metadata": {
            "tags": [],
            "needs_background": "light"
          }
        }
      ]
    },
    {
      "cell_type": "code",
      "metadata": {
        "id": "nfvZsbKDC6rS"
      },
      "source": [
        "model=nn.Linear(1,1)\n",
        "\n",
        "criterion=nn.MSELoss()\n",
        "optimizer = torch.optim.SGD(model.parameters(),lr=0.1)\n",
        "\n",
        "X=X.reshape(N,1)\n",
        "Y=Y.reshape(N,1)\n",
        "\n",
        "inputs=torch.from_numpy(X.astype(np.float32))\n",
        "targets=torch.from_numpy(Y.astype(np.float32))\n"
      ],
      "execution_count": 15,
      "outputs": []
    },
    {
      "cell_type": "code",
      "metadata": {
        "id": "AoSuDrKDDr7J",
        "outputId": "5693d3fb-7bc8-40d1-99cf-2da1ee033108",
        "colab": {
          "base_uri": "https://localhost:8080/"
        }
      },
      "source": [
        "type(inputs)"
      ],
      "execution_count": 16,
      "outputs": [
        {
          "output_type": "execute_result",
          "data": {
            "text/plain": [
              "torch.Tensor"
            ]
          },
          "metadata": {
            "tags": []
          },
          "execution_count": 16
        }
      ]
    },
    {
      "cell_type": "code",
      "metadata": {
        "id": "X7BhJziVDux7",
        "outputId": "787bffbf-74dd-4350-8698-2a69ab252fa4",
        "colab": {
          "base_uri": "https://localhost:8080/"
        }
      },
      "source": [
        "n_epcohs=30\n",
        "losses=[]\n",
        "\n",
        "for it in range(n_epcohs):\n",
        "  optimizer.zero_grad()\n",
        "\n",
        "  outputs=model(inputs)\n",
        "\n",
        "  loss=criterion(outputs,targets)\n",
        "\n",
        "  losses.append(loss)\n",
        "\n",
        "  loss.backward()\n",
        "\n",
        "  optimizer.step()\n",
        "\n",
        "  print(f\"Epoch {it+1}/{n_epcohs}. Loss: {loss.item():.4f}\")"
      ],
      "execution_count": 18,
      "outputs": [
        {
          "output_type": "stream",
          "text": [
            "Epoch 1/30. Loss: 1.1494\n",
            "Epoch 2/30. Loss: 0.8658\n",
            "Epoch 3/30. Loss: 0.6587\n",
            "Epoch 4/30. Loss: 0.5067\n",
            "Epoch 5/30. Loss: 0.3946\n",
            "Epoch 6/30. Loss: 0.3114\n",
            "Epoch 7/30. Loss: 0.2495\n",
            "Epoch 8/30. Loss: 0.2032\n",
            "Epoch 9/30. Loss: 0.1685\n",
            "Epoch 10/30. Loss: 0.1424\n",
            "Epoch 11/30. Loss: 0.1228\n",
            "Epoch 12/30. Loss: 0.1079\n",
            "Epoch 13/30. Loss: 0.0967\n",
            "Epoch 14/30. Loss: 0.0882\n",
            "Epoch 15/30. Loss: 0.0817\n",
            "Epoch 16/30. Loss: 0.0768\n",
            "Epoch 17/30. Loss: 0.0731\n",
            "Epoch 18/30. Loss: 0.0703\n",
            "Epoch 19/30. Loss: 0.0681\n",
            "Epoch 20/30. Loss: 0.0664\n",
            "Epoch 21/30. Loss: 0.0652\n",
            "Epoch 22/30. Loss: 0.0642\n",
            "Epoch 23/30. Loss: 0.0635\n",
            "Epoch 24/30. Loss: 0.0629\n",
            "Epoch 25/30. Loss: 0.0625\n",
            "Epoch 26/30. Loss: 0.0622\n",
            "Epoch 27/30. Loss: 0.0620\n",
            "Epoch 28/30. Loss: 0.0618\n",
            "Epoch 29/30. Loss: 0.0616\n",
            "Epoch 30/30. Loss: 0.0615\n"
          ],
          "name": "stdout"
        }
      ]
    },
    {
      "cell_type": "code",
      "metadata": {
        "id": "N0uZ9A81Eyj9",
        "outputId": "6ff642f5-feeb-4b02-b3aa-b33fefa39ab4",
        "colab": {
          "base_uri": "https://localhost:8080/",
          "height": 286
        }
      },
      "source": [
        "plt.plot(losses)"
      ],
      "execution_count": 19,
      "outputs": [
        {
          "output_type": "execute_result",
          "data": {
            "text/plain": [
              "[<matplotlib.lines.Line2D at 0x7f1e42b33198>]"
            ]
          },
          "metadata": {
            "tags": []
          },
          "execution_count": 19
        },
        {
          "output_type": "display_data",
          "data": {
            "image/png": "[encoded data removed]",
            "text/plain": [
              "<Figure size 432x288 with 1 Axes>"
            ]
          },
          "metadata": {
            "tags": [],
            "needs_background": "light"
          }
        }
      ]
    },
    {
      "cell_type": "code",
      "metadata": {
        "id": "hoURtX__E9uU",
        "outputId": "741af78a-92fc-4161-fc1d-8bbd06e18ab3",
        "colab": {
          "base_uri": "https://localhost:8080/",
          "height": 265
        }
      },
      "source": [
        "predicted=model(inputs).detach().numpy()\n",
        "plt.scatter(X,Y,label=\"Original\")\n",
        "plt.plot(X,predicted,label=\"F\")\n",
        "plt.legend()\n",
        "plt.show()"
      ],
      "execution_count": 20,
      "outputs": [
        {
          "output_type": "display_data",
          "data": {
            "image/png": "[encoded data removed]",
            "text/plain": [
              "<Figure size 432x288 with 1 Axes>"
            ]
          },
          "metadata": {
            "tags": [],
            "needs_background": "light"
          }
        }
      ]
    }
  ]
}