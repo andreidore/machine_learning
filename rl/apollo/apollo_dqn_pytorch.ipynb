{
  "nbformat": 4,
  "nbformat_minor": 0,
  "metadata": {
    "colab": {
      "name": "apollo_dqn_pytorch.ipynb",
      "provenance": [],
      "authorship_tag": "ABX9TyPdKFTsF4cWnkDhJtGze3X6",
      "include_colab_link": true
    },
    "kernelspec": {
      "name": "python3",
      "display_name": "Python 3"
    }
  },
  "cells": [
    {
      "cell_type": "markdown",
      "metadata": {
        "id": "view-in-github",
        "colab_type": "text"
      },
      "source": [
        "<a href=\"https://colab.research.google.com/github/andreidore/machine_learning/blob/main/rl/apollo/apollo_dqn_pytorch.ipynb\" target=\"_parent\"><img src=\"https://colab.research.google.com/assets/colab-badge.svg\" alt=\"Open In Colab\"/></a>"
      ]
    },
    {
      "cell_type": "code",
      "metadata": {
        "id": "UfQL3sW-gWnV"
      },
      "source": [
        "import numpy as np\n",
        "\n",
        "import torch as T\n",
        "import torch.nn as nn\n",
        "import torch.nn.functional as F\n",
        "import torch.optim as optim"
      ],
      "execution_count": 2,
      "outputs": []
    },
    {
      "cell_type": "code",
      "metadata": {
        "id": "udop00-1ib4m",
        "outputId": "2a5ecc7b-9e49-42f6-cbd8-ddd4304c2e45",
        "colab": {
          "base_uri": "https://localhost:8080/"
        }
      },
      "source": [
        "print(T.__version__)"
      ],
      "execution_count": 3,
      "outputs": [
        {
          "output_type": "stream",
          "text": [
            "1.7.0+cu101\n"
          ],
          "name": "stdout"
        }
      ]
    },
    {
      "cell_type": "code",
      "metadata": {
        "id": "87FMcViUikc2"
      },
      "source": [
        "class DeepQNetwork(nn.Module):\n",
        "  def __init__(self,lr, input_dims, fc1_dims, fc2_dims, n_action):\n",
        "    super(DeepQNetwork,self).__init__()\n",
        "\n",
        "    self.input_dims=input_dims\n",
        "    "
      ],
      "execution_count": null,
      "outputs": []
    }
  ]
}